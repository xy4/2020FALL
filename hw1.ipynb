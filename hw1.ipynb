
import pandas as pd
import numpy as np
import matplotlib.pyplot as plt

data = pd.read_cs("data.csv")
x = data["x"]
label = data["Class"]
